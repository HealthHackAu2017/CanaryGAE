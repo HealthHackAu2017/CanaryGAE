{
 "cells": [
  {
   "cell_type": "code",
   "execution_count": 15,
   "metadata": {
    "collapsed": true
   },
   "outputs": [],
   "source": [
    "%matplotlib notebook
",
    "import numpy as np
",
    "import matplotlib.pyplot as plt
",
    "from datetime import datetime
",
    "import time"
   ]
  },
  {
   "cell_type": "code",
   "execution_count": 16,
   "metadata": {
    "collapsed": true
   },
   "outputs": [],
   "source": [
    "def convert_date(unixtime):
",
    "    ms = unixtime%1000000000
",
    "    dt = datetime.fromtimestamp(unixtime // 1000000000)
",
    "    return dt,ms
",
    "
",
    "def day_array(data):
",
    "    times = []
",
    "    for dat in data:
",
    "        times.append(datetime.fromtimestamp(dat// 1000000000))
",
    "    return times
",
    "
",
    "def make_date(d,m,y):
",
    "    s="{:02d}/{:02d}/{:04d}".format(d,m,y)
",
    "    return time.mktime(datetime.strptime(s, "%d/%m/%Y").timetuple())*1000000000
",
    "
",
    "def chop_data(data):
",
    "    idx = []
",
    "    flag = 1
",
    "    for i,dat in enumerate(data):
",
    "        tmp = datetime.fromtimestamp(dat // 1000000000)
",
    "        if tmp.hour >= 8  and flag == 1:
",
    "            #print(i,end="\r")
",
    "            idx.append(i)
",
    "            flag = 0
",
    "        elif tmp.hour < 8:
",
    "            flag = 1
",
    "    return idx
"
   ]
  },
  {
   "cell_type": "code",
   "execution_count": 17,
   "metadata": {
    "collapsed": true
   },
   "outputs": [],
   "source": [
    "data = np.load("../stat_data.npy")
",
    "raw = np.load("../data.npy")"
   ]
  },
  {
   "cell_type": "code",
   "execution_count": 18,
   "metadata": {
    "collapsed": true
   },
   "outputs": [],
   "source": [
    "#remove nan data
",
    "idx = np.isnan(data[:,-1])==False
",
    "hrv = data[idx][:,[0,-1]]
",
    "idx = np.where(hrv[:,1] > 0)
",
    "hrv = hrv[idx]
",
    "
",
    "idx = np.isnan(raw[:,-2])==False
",
    "ppg = raw[idx][:,[0,-2]]"
   ]
  },
  {
   "cell_type": "code",
   "execution_count": 19,
   "metadata": {
    "collapsed": true
   },
   "outputs": [],
   "source": [
    "# days = []
",
    "# dt, _ = convert_date(ppg[0,0])
",
    "# for i in range(12):
",
    "#     days.append(make_date(dt.day+i,dt.month,dt.year))
",
    "# graph = np.append(np.ones(len(days)),np.ones(len(days))*40)
",
    "# days = days + days"
   ]
  },
  {
   "cell_type": "code",
   "execution_count": 20,
   "metadata": {},
   "outputs": [
    {
     "data": {
      "text/plain": [
       "725"
      ]
     },
     "execution_count": 20,
     "metadata": {},
     "output_type": "execute_result"
    }
   ],
   "source": [
    "len(hrv)"
   ]
  },
  {
   "cell_type": "code",
   "execution_count": 21,
   "metadata": {},
   "outputs": [
    {
     "name": "stdout",
     "output_type": "stream",
     "text": [
      "[9, 64, 142, 222, 293, 352, 416, 486, 550, 619, 679]
"
     ]
    }
   ],
   "source": [
    "hrv_days = day_array(hrv[:,0])
",
    "hrv_dat = hrv[:,1]
",
    "idx = chop_data(hrv[:,0])
",
    "
",
    "print(idx)
",
    "#idx = chop_data(hrv[:,0])"
   ]
  },
  {
   "cell_type": "code",
   "execution_count": 22,
   "metadata": {},
   "outputs": [
    {
     "name": "stdout",
     "output_type": "stream",
     "text": [
      "[9, 64, 142, 222, 293, 352, 416, 486, 550, 619, 679]
"
     ]
    }
   ],
   "source": [
    "ppg_days = day_array(ppg[:,0])
",
    "ppg_dat = ppg[:,1]
",
    "idx2 = chop_data(ppg[:,0])
",
    "
",
    "print(idx)
",
    "#idx = chop_data(hrv[:,0])"
   ]
  },
  {
   "cell_type": "code",
   "execution_count": 23,
   "metadata": {},
   "outputs": [],
   "source": [
    "#plt.subplot(2,1,1)
",
    "cut_ppg_times = []
",
    "cut_ppg_dat = []
",
    "for i in range(len(idx)-1):
",
    "    cut_ppg_times.append(ppg_days[idx2[i]:idx2[i+1]])
",
    "    cut_ppg_dat.append(ppg_dat[idx2[i]:idx2[i+1]])
",
    "cut_ppg_times.append(ppg_days[idx2[-1]:])
",
    "cut_ppg_dat.append(ppg_dat[idx2[-1]:])
",
    "#plt.plot(cut_ppg_times[-1],cut_ppg_dat[-1])
",
    "#plt.gcf().autofmt_xdate()
",
    "
",
    "
",
    "#plt.subplot(2,1,2)
",
    "cut_hrv_times = []
",
    "cut_hrv_dat = []
",
    "for i in range(len(idx)-1):
",
    "    cut_hrv_times.append(hrv_days[idx[i]:idx[i+1]])
",
    "    cut_hrv_dat.append(hrv_dat[idx[i]:idx[i+1]])
",
    "    
",
    "cut_hrv_times.append(hrv_days[idx[-1]:])
",
    "cut_hrv_dat.append(hrv_dat[idx[-1]:])
",
    "#plt.gcf().autofmt_xdate()
"
   ]
  },
  {
   "cell_type": "code",
   "execution_count": 24,
   "metadata": {},
   "outputs": [
    {
     "data": {
      "text/plain": [
       "array([ 29.369909,  35.914806,  51.725296,  23.614702,  54.887569,
",
       "        53.088276,  15.567812,  55.249283,  82.019928,  81.152702,
",
       "        29.4928  ,  36.983379,  25.892803,  50.375454,  45.337551,
",
       "        41.773766,  66.715752,  64.425766,  53.105759,  53.955837,
",
       "        48.560234,  41.722313,  49.691002,  41.827885,  37.677338,
",
       "        31.848736,  38.54644 ,  40.063976,  57.737175,  45.097359,
",
       "        39.27533 ,  43.67123 ,  42.816021,  34.847263,  31.642162,
",
       "        20.816814,  49.175934,  30.948471,  37.114994,  55.960289,
",
       "        52.764683,  58.015198,  52.733841,  57.971752,  69.470093,
",
       "        31.824436,  51.384041,  41.432964,  22.885021,  29.522928,
",
       "        29.894014,  32.899052,  62.561733,  38.996826,  55.766369,
",
       "        37.325748,  41.138412,  39.726315,  53.466808,  54.591671,
",
       "        36.097954,  42.665428,  43.462585,  60.515324,  67.183556,
",
       "        28.299622,  27.060204,  33.234348,  34.731327,  38.318832,
",
       "        53.833637,  60.772293,  47.412117,  52.795444,  36.246147,
",
       "        16.818874,  19.536964,  52.141811,  27.128529,  30.828623])"
      ]
     },
     "execution_count": 24,
     "metadata": {},
     "output_type": "execute_result"
    }
   ],
   "source": []
  },
  {
   "cell_type": "code",
   "execution_count": 32,
   "metadata": {},
   "outputs": [
    {
     "data": {
      "application/javascript": [
       "/* Put everything inside the global mpl namespace */
",
       "window.mpl = {};
",
       "
",
       "
",
       "mpl.get_websocket_type = function() {
",
       "    if (typeof(WebSocket) !== 'undefined') {
",
       "        return WebSocket;
",
       "    } else if (typeof(MozWebSocket) !== 'undefined') {
",
       "        return MozWebSocket;
",
       "    } else {
",
       "        alert('Your browser does not have WebSocket support.' +
",
       "              'Please try Chrome, Safari or Firefox ≥ 6. ' +
",
       "              'Firefox 4 and 5 are also supported but you ' +
",
       "              'have to enable WebSockets in about:config.');
",
       "    };
",
       "}
",
       "
",
       "mpl.figure = function(figure_id, websocket, ondownload, parent_element) {
",
       "    this.id = figure_id;
",
       "
",
       "    this.ws = websocket;
",
       "
",
       "    this.supports_binary = (this.ws.binaryType != undefined);
",
       "
",
       "    if (!this.supports_binary) {
",
       "        var warnings = document.getElementById("mpl-warnings");
",
       "        if (warnings) {
",
       "            warnings.style.display = 'block';
",
       "            warnings.textContent = (
",
       "                "This browser does not support binary websocket messages. " +
",
       "                    "Performance may be slow.");
",
       "        }
",
       "    }
",
       "
",
       "    this.imageObj = new Image();
",
       "
",
       "    this.context = undefined;
",
       "    this.message = undefined;
",
       "    this.canvas = undefined;
",
       "    this.rubberband_canvas = undefined;
",
       "    this.rubberband_context = undefined;
",
       "    this.format_dropdown = undefined;
",
       "
",
       "    this.image_mode = 'full';
",
       "
",
       "    this.root = $('<div/>');
",
       "    this._root_extra_style(this.root)
",
       "    this.root.attr('style', 'display: inline-block');
",
       "
",
       "    $(parent_element).append(this.root);
",
       "
",
       "    this._init_header(this);
",
       "    this._init_canvas(this);
",
       "    this._init_toolbar(this);
",
       "
",
       "    var fig = this;
",
       "
",
       "    this.waiting = false;
",
       "
",
       "    this.ws.onopen =  function () {
",
       "            fig.send_message("supports_binary", {value: fig.supports_binary});
",
       "            fig.send_message("send_image_mode", {});
",
       "            if (mpl.ratio != 1) {
",
       "                fig.send_message("set_dpi_ratio", {'dpi_ratio': mpl.ratio});
",
       "            }
",
       "            fig.send_message("refresh", {});
",
       "        }
",
       "
",
       "    this.imageObj.onload = function() {
",
       "            if (fig.image_mode == 'full') {
",
       "                // Full images could contain transparency (where diff images
",
       "                // almost always do), so we need to clear the canvas so that
",
       "                // there is no ghosting.
",
       "                fig.context.clearRect(0, 0, fig.canvas.width, fig.canvas.height);
",
       "            }
",
       "            fig.context.drawImage(fig.imageObj, 0, 0);
",
       "        };
",
       "
",
       "    this.imageObj.onunload = function() {
",
       "        this.ws.close();
",
       "    }
",
       "
",
       "    this.ws.onmessage = this._make_on_message_function(this);
",
       "
",
       "    this.ondownload = ondownload;
",
       "}
",
       "
",
       "mpl.figure.prototype._init_header = function() {
",
       "    var titlebar = $(
",
       "        '<div class="ui-dialog-titlebar ui-widget-header ui-corner-all ' +
",
       "        'ui-helper-clearfix"/>');
",
       "    var titletext = $(
",
       "        '<div class="ui-dialog-title" style="width: 100%; ' +
",
       "        'text-align: center; padding: 3px;"/>');
",
       "    titlebar.append(titletext)
",
       "    this.root.append(titlebar);
",
       "    this.header = titletext[0];
",
       "}
",
       "
",
       "
",
       "
",
       "mpl.figure.prototype._canvas_extra_style = function(canvas_div) {
",
       "
",
       "}
",
       "
",
       "
",
       "mpl.figure.prototype._root_extra_style = function(canvas_div) {
",
       "
",
       "}
",
       "
",
       "mpl.figure.prototype._init_canvas = function() {
",
       "    var fig = this;
",
       "
",
       "    var canvas_div = $('<div/>');
",
       "
",
       "    canvas_div.attr('style', 'position: relative; clear: both; outline: 0');
",
       "
",
       "    function canvas_keyboard_event(event) {
",
       "        return fig.key_event(event, event['data']);
",
       "    }
",
       "
",
       "    canvas_div.keydown('key_press', canvas_keyboard_event);
",
       "    canvas_div.keyup('key_release', canvas_keyboard_event);
",
       "    this.canvas_div = canvas_div
",
       "    this._canvas_extra_style(canvas_div)
",
       "    this.root.append(canvas_div);
",
       "
",
       "    var canvas = $('<canvas/>');
",
       "    canvas.addClass('mpl-canvas');
",
       "    canvas.attr('style', "left: 0; top: 0; z-index: 0; outline: 0")
",
       "
",
       "    this.canvas = canvas[0];
",
       "    this.context = canvas[0].getContext("2d");
",
       "
",
       "    var backingStore = this.context.backingStorePixelRatio ||
",
       "	this.context.webkitBackingStorePixelRatio ||
",
       "	this.context.mozBackingStorePixelRatio ||
",
       "	this.context.msBackingStorePixelRatio ||
",
       "	this.context.oBackingStorePixelRatio ||
",
       "	this.context.backingStorePixelRatio || 1;
",
       "
",
       "    mpl.ratio = (window.devicePixelRatio || 1) / backingStore;
",
       "
",
       "    var rubberband = $('<canvas/>');
",
       "    rubberband.attr('style', "position: absolute; left: 0; top: 0; z-index: 1;")
",
       "
",
       "    var pass_mouse_events = true;
",
       "
",
       "    canvas_div.resizable({
",
       "        start: function(event, ui) {
",
       "            pass_mouse_events = false;
",
       "        },
",
       "        resize: function(event, ui) {
",
       "            fig.request_resize(ui.size.width, ui.size.height);
",
       "        },
",
       "        stop: function(event, ui) {
",
       "            pass_mouse_events = true;
",
       "            fig.request_resize(ui.size.width, ui.size.height);
",
       "        },
",
       "    });
",
       "
",
       "    function mouse_event_fn(event) {
",
       "        if (pass_mouse_events)
",
       "            return fig.mouse_event(event, event['data']);
",
       "    }
",
       "
",
       "    rubberband.mousedown('button_press', mouse_event_fn);
",
       "    rubberband.mouseup('button_release', mouse_event_fn);
",
       "    // Throttle sequential mouse events to 1 every 20ms.
",
       "    rubberband.mousemove('motion_notify', mouse_event_fn);
",
       "
",
       "    rubberband.mouseenter('figure_enter', mouse_event_fn);
",
       "    rubberband.mouseleave('figure_leave', mouse_event_fn);
",
       "
",
       "    canvas_div.on("wheel", function (event) {
",
       "        event = event.originalEvent;
",
       "        event['data'] = 'scroll'
",
       "        if (event.deltaY < 0) {
",
       "            event.step = 1;
",
       "        } else {
",
       "            event.step = -1;
",
       "        }
",
       "        mouse_event_fn(event);
",
       "    });
",
       "
",
       "    canvas_div.append(canvas);
",
       "    canvas_div.append(rubberband);
",
       "
",
       "    this.rubberband = rubberband;
",
       "    this.rubberband_canvas = rubberband[0];
",
       "    this.rubberband_context = rubberband[0].getContext("2d");
",
       "    this.rubberband_context.strokeStyle = "#000000";
",
       "
",
       "    this._resize_canvas = function(width, height) {
",
       "        // Keep the size of the canvas, canvas container, and rubber band
",
       "        // canvas in synch.
",
       "        canvas_div.css('width', width)
",
       "        canvas_div.css('height', height)
",
       "
",
       "        canvas.attr('width', width * mpl.ratio);
",
       "        canvas.attr('height', height * mpl.ratio);
",
       "        canvas.attr('style', 'width: ' + width + 'px; height: ' + height + 'px;');
",
       "
",
       "        rubberband.attr('width', width);
",
       "        rubberband.attr('height', height);
",
       "    }
",
       "
",
       "    // Set the figure to an initial 600x600px, this will subsequently be updated
",
       "    // upon first draw.
",
       "    this._resize_canvas(600, 600);
",
       "
",
       "    // Disable right mouse context menu.
",
       "    $(this.rubberband_canvas).bind("contextmenu",function(e){
",
       "        return false;
",
       "    });
",
       "
",
       "    function set_focus () {
",
       "        canvas.focus();
",
       "        canvas_div.focus();
",
       "    }
",
       "
",
       "    window.setTimeout(set_focus, 100);
",
       "}
",
       "
",
       "mpl.figure.prototype._init_toolbar = function() {
",
       "    var fig = this;
",
       "
",
       "    var nav_element = $('<div/>')
",
       "    nav_element.attr('style', 'width: 100%');
",
       "    this.root.append(nav_element);
",
       "
",
       "    // Define a callback function for later on.
",
       "    function toolbar_event(event) {
",
       "        return fig.toolbar_button_onclick(event['data']);
",
       "    }
",
       "    function toolbar_mouse_event(event) {
",
       "        return fig.toolbar_button_onmouseover(event['data']);
",
       "    }
",
       "
",
       "    for(var toolbar_ind in mpl.toolbar_items) {
",
       "        var name = mpl.toolbar_items[toolbar_ind][0];
",
       "        var tooltip = mpl.toolbar_items[toolbar_ind][1];
",
       "        var image = mpl.toolbar_items[toolbar_ind][2];
",
       "        var method_name = mpl.toolbar_items[toolbar_ind][3];
",
       "
",
       "        if (!name) {
",
       "            // put a spacer in here.
",
       "            continue;
",
       "        }
",
       "        var button = $('<button/>');
",
       "        button.addClass('ui-button ui-widget ui-state-default ui-corner-all ' +
",
       "                        'ui-button-icon-only');
",
       "        button.attr('role', 'button');
",
       "        button.attr('aria-disabled', 'false');
",
       "        button.click(method_name, toolbar_event);
",
       "        button.mouseover(tooltip, toolbar_mouse_event);
",
       "
",
       "        var icon_img = $('<span/>');
",
       "        icon_img.addClass('ui-button-icon-primary ui-icon');
",
       "        icon_img.addClass(image);
",
       "        icon_img.addClass('ui-corner-all');
",
       "
",
       "        var tooltip_span = $('<span/>');
",
       "        tooltip_span.addClass('ui-button-text');
",
       "        tooltip_span.html(tooltip);
",
       "
",
       "        button.append(icon_img);
",
       "        button.append(tooltip_span);
",
       "
",
       "        nav_element.append(button);
",
       "    }
",
       "
",
       "    var fmt_picker_span = $('<span/>');
",
       "
",
       "    var fmt_picker = $('<select/>');
",
       "    fmt_picker.addClass('mpl-toolbar-option ui-widget ui-widget-content');
",
       "    fmt_picker_span.append(fmt_picker);
",
       "    nav_element.append(fmt_picker_span);
",
       "    this.format_dropdown = fmt_picker[0];
",
       "
",
       "    for (var ind in mpl.extensions) {
",
       "        var fmt = mpl.extensions[ind];
",
       "        var option = $(
",
       "            '<option/>', {selected: fmt === mpl.default_extension}).html(fmt);
",
       "        fmt_picker.append(option)
",
       "    }
",
       "
",
       "    // Add hover states to the ui-buttons
",
       "    $( ".ui-button" ).hover(
",
       "        function() { $(this).addClass("ui-state-hover");},
",
       "        function() { $(this).removeClass("ui-state-hover");}
",
       "    );
",
       "
",
       "    var status_bar = $('<span class="mpl-message"/>');
",
       "    nav_element.append(status_bar);
",
       "    this.message = status_bar[0];
",
       "}
",
       "
",
       "mpl.figure.prototype.request_resize = function(x_pixels, y_pixels) {
",
       "    // Request matplotlib to resize the figure. Matplotlib will then trigger a resize in the client,
",
       "    // which will in turn request a refresh of the image.
",
       "    this.send_message('resize', {'width': x_pixels, 'height': y_pixels});
",
       "}
",
       "
",
       "mpl.figure.prototype.send_message = function(type, properties) {
",
       "    properties['type'] = type;
",
       "    properties['figure_id'] = this.id;
",
       "    this.ws.send(JSON.stringify(properties));
",
       "}
",
       "
",
       "mpl.figure.prototype.send_draw_message = function() {
",
       "    if (!this.waiting) {
",
       "        this.waiting = true;
",
       "        this.ws.send(JSON.stringify({type: "draw", figure_id: this.id}));
",
       "    }
",
       "}
",
       "
",
       "
",
       "mpl.figure.prototype.handle_save = function(fig, msg) {
",
       "    var format_dropdown = fig.format_dropdown;
",
       "    var format = format_dropdown.options[format_dropdown.selectedIndex].value;
",
       "    fig.ondownload(fig, format);
",
       "}
",
       "
",
       "
",
       "mpl.figure.prototype.handle_resize = function(fig, msg) {
",
       "    var size = msg['size'];
",
       "    if (size[0] != fig.canvas.width || size[1] != fig.canvas.height) {
",
       "        fig._resize_canvas(size[0], size[1]);
",
       "        fig.send_message("refresh", {});
",
       "    };
",
       "}
",
       "
",
       "mpl.figure.prototype.handle_rubberband = function(fig, msg) {
",
       "    var x0 = msg['x0'] / mpl.ratio;
",
       "    var y0 = (fig.canvas.height - msg['y0']) / mpl.ratio;
",
       "    var x1 = msg['x1'] / mpl.ratio;
",
       "    var y1 = (fig.canvas.height - msg['y1']) / mpl.ratio;
",
       "    x0 = Math.floor(x0) + 0.5;
",
       "    y0 = Math.floor(y0) + 0.5;
",
       "    x1 = Math.floor(x1) + 0.5;
",
       "    y1 = Math.floor(y1) + 0.5;
",
       "    var min_x = Math.min(x0, x1);
",
       "    var min_y = Math.min(y0, y1);
",
       "    var width = Math.abs(x1 - x0);
",
       "    var height = Math.abs(y1 - y0);
",
       "
",
       "    fig.rubberband_context.clearRect(
",
       "        0, 0, fig.canvas.width, fig.canvas.height);
",
       "
",
       "    fig.rubberband_context.strokeRect(min_x, min_y, width, height);
",
       "}
",
       "
",
       "mpl.figure.prototype.handle_figure_label = function(fig, msg) {
",
       "    // Updates the figure title.
",
       "    fig.header.textContent = msg['label'];
",
       "}
",
       "
",
       "mpl.figure.prototype.handle_cursor = function(fig, msg) {
",
       "    var cursor = msg['cursor'];
",
       "    switch(cursor)
",
       "    {
",
       "    case 0:
",
       "        cursor = 'pointer';
",
       "        break;
",
       "    case 1:
",
       "        cursor = 'default';
",
       "        break;
",
       "    case 2:
",
       "        cursor = 'crosshair';
",
       "        break;
",
       "    case 3:
",
       "        cursor = 'move';
",
       "        break;
",
       "    }
",
       "    fig.rubberband_canvas.style.cursor = cursor;
",
       "}
",
       "
",
       "mpl.figure.prototype.handle_message = function(fig, msg) {
",
       "    fig.message.textContent = msg['message'];
",
       "}
",
       "
",
       "mpl.figure.prototype.handle_draw = function(fig, msg) {
",
       "    // Request the server to send over a new figure.
",
       "    fig.send_draw_message();
",
       "}
",
       "
",
       "mpl.figure.prototype.handle_image_mode = function(fig, msg) {
",
       "    fig.image_mode = msg['mode'];
",
       "}
",
       "
",
       "mpl.figure.prototype.updated_canvas_event = function() {
",
       "    // Called whenever the canvas gets updated.
",
       "    this.send_message("ack", {});
",
       "}
",
       "
",
       "// A function to construct a web socket function for onmessage handling.
",
       "// Called in the figure constructor.
",
       "mpl.figure.prototype._make_on_message_function = function(fig) {
",
       "    return function socket_on_message(evt) {
",
       "        if (evt.data instanceof Blob) {
",
       "            /* FIXME: We get "Resource interpreted as Image but
",
       "             * transferred with MIME type text/plain:" errors on
",
       "             * Chrome.  But how to set the MIME type?  It doesn't seem
",
       "             * to be part of the websocket stream */
",
       "            evt.data.type = "image/png";
",
       "
",
       "            /* Free the memory for the previous frames */
",
       "            if (fig.imageObj.src) {
",
       "                (window.URL || window.webkitURL).revokeObjectURL(
",
       "                    fig.imageObj.src);
",
       "            }
",
       "
",
       "            fig.imageObj.src = (window.URL || window.webkitURL).createObjectURL(
",
       "                evt.data);
",
       "            fig.updated_canvas_event();
",
       "            fig.waiting = false;
",
       "            return;
",
       "        }
",
       "        else if (typeof evt.data === 'string' && evt.data.slice(0, 21) == "data:image/png;base64") {
",
       "            fig.imageObj.src = evt.data;
",
       "            fig.updated_canvas_event();
",
       "            fig.waiting = false;
",
       "            return;
",
       "        }
",
       "
",
       "        var msg = JSON.parse(evt.data);
",
       "        var msg_type = msg['type'];
",
       "
",
       "        // Call the  "handle_{type}" callback, which takes
",
       "        // the figure and JSON message as its only arguments.
",
       "        try {
",
       "            var callback = fig["handle_" + msg_type];
",
       "        } catch (e) {
",
       "            console.log("No handler for the '" + msg_type + "' message type: ", msg);
",
       "            return;
",
       "        }
",
       "
",
       "        if (callback) {
",
       "            try {
",
       "                // console.log("Handling '" + msg_type + "' message: ", msg);
",
       "                callback(fig, msg);
",
       "            } catch (e) {
",
       "                console.log("Exception inside the 'handler_" + msg_type + "' callback:", e, e.stack, msg);
",
       "            }
",
       "        }
",
       "    };
",
       "}
",
       "
",
       "// from http://stackoverflow.com/questions/1114465/getting-mouse-location-in-canvas
",
       "mpl.findpos = function(e) {
",
       "    //this section is from http://www.quirksmode.org/js/events_properties.html
",
       "    var targ;
",
       "    if (!e)
",
       "        e = window.event;
",
       "    if (e.target)
",
       "        targ = e.target;
",
       "    else if (e.srcElement)
",
       "        targ = e.srcElement;
",
       "    if (targ.nodeType == 3) // defeat Safari bug
",
       "        targ = targ.parentNode;
",
       "
",
       "    // jQuery normalizes the pageX and pageY
",
       "    // pageX,Y are the mouse positions relative to the document
",
       "    // offset() returns the position of the element relative to the document
",
       "    var x = e.pageX - $(targ).offset().left;
",
       "    var y = e.pageY - $(targ).offset().top;
",
       "
",
       "    return {"x": x, "y": y};
",
       "};
",
       "
",
       "/*
",
       " * return a copy of an object with only non-object keys
",
       " * we need this to avoid circular references
",
       " * http://stackoverflow.com/a/24161582/3208463
",
       " */
",
       "function simpleKeys (original) {
",
       "  return Object.keys(original).reduce(function (obj, key) {
",
       "    if (typeof original[key] !== 'object')
",
       "        obj[key] = original[key]
",
       "    return obj;
",
       "  }, {});
",
       "}
",
       "
",
       "mpl.figure.prototype.mouse_event = function(event, name) {
",
       "    var canvas_pos = mpl.findpos(event)
",
       "
",
       "    if (name === 'button_press')
",
       "    {
",
       "        this.canvas.focus();
",
       "        this.canvas_div.focus();
",
       "    }
",
       "
",
       "    var x = canvas_pos.x * mpl.ratio;
",
       "    var y = canvas_pos.y * mpl.ratio;
",
       "
",
       "    this.send_message(name, {x: x, y: y, button: event.button,
",
       "                             step: event.step,
",
       "                             guiEvent: simpleKeys(event)});
",
       "
",
       "    /* This prevents the web browser from automatically changing to
",
       "     * the text insertion cursor when the button is pressed.  We want
",
       "     * to control all of the cursor setting manually through the
",
       "     * 'cursor' event from matplotlib */
",
       "    event.preventDefault();
",
       "    return false;
",
       "}
",
       "
",
       "mpl.figure.prototype._key_event_extra = function(event, name) {
",
       "    // Handle any extra behaviour associated with a key event
",
       "}
",
       "
",
       "mpl.figure.prototype.key_event = function(event, name) {
",
       "
",
       "    // Prevent repeat events
",
       "    if (name == 'key_press')
",
       "    {
",
       "        if (event.which === this._key)
",
       "            return;
",
       "        else
",
       "            this._key = event.which;
",
       "    }
",
       "    if (name == 'key_release')
",
       "        this._key = null;
",
       "
",
       "    var value = '';
",
       "    if (event.ctrlKey && event.which != 17)
",
       "        value += "ctrl+";
",
       "    if (event.altKey && event.which != 18)
",
       "        value += "alt+";
",
       "    if (event.shiftKey && event.which != 16)
",
       "        value += "shift+";
",
       "
",
       "    value += 'k';
",
       "    value += event.which.toString();
",
       "
",
       "    this._key_event_extra(event, name);
",
       "
",
       "    this.send_message(name, {key: value,
",
       "                             guiEvent: simpleKeys(event)});
",
       "    return false;
",
       "}
",
       "
",
       "mpl.figure.prototype.toolbar_button_onclick = function(name) {
",
       "    if (name == 'download') {
",
       "        this.handle_save(this, null);
",
       "    } else {
",
       "        this.send_message("toolbar_button", {name: name});
",
       "    }
",
       "};
",
       "
",
       "mpl.figure.prototype.toolbar_button_onmouseover = function(tooltip) {
",
       "    this.message.textContent = tooltip;
",
       "};
",
       "mpl.toolbar_items = [["Home", "Reset original view", "fa fa-home icon-home", "home"], ["Back", "Back to  previous view", "fa fa-arrow-left icon-arrow-left", "back"], ["Forward", "Forward to next view", "fa fa-arrow-right icon-arrow-right", "forward"], ["", "", "", ""], ["Pan", "Pan axes with left mouse, zoom with right", "fa fa-arrows icon-move", "pan"], ["Zoom", "Zoom to rectangle", "fa fa-square-o icon-check-empty", "zoom"], ["", "", "", ""], ["Download", "Download plot", "fa fa-floppy-o icon-save", "download"]];
",
       "
",
       "mpl.extensions = ["eps", "jpeg", "pdf", "png", "ps", "raw", "svg", "tif"];
",
       "
",
       "mpl.default_extension = "png";var comm_websocket_adapter = function(comm) {
",
       "    // Create a "websocket"-like object which calls the given IPython comm
",
       "    // object with the appropriate methods. Currently this is a non binary
",
       "    // socket, so there is still some room for performance tuning.
",
       "    var ws = {};
",
       "
",
       "    ws.close = function() {
",
       "        comm.close()
",
       "    };
",
       "    ws.send = function(m) {
",
       "        //console.log('sending', m);
",
       "        comm.send(m);
",
       "    };
",
       "    // Register the callback with on_msg.
",
       "    comm.on_msg(function(msg) {
",
       "        //console.log('receiving', msg['content']['data'], msg);
",
       "        // Pass the mpl event to the overriden (by mpl) onmessage function.
",
       "        ws.onmessage(msg['content']['data'])
",
       "    });
",
       "    return ws;
",
       "}
",
       "
",
       "mpl.mpl_figure_comm = function(comm, msg) {
",
       "    // This is the function which gets called when the mpl process
",
       "    // starts-up an IPython Comm through the "matplotlib" channel.
",
       "
",
       "    var id = msg.content.data.id;
",
       "    // Get hold of the div created by the display call when the Comm
",
       "    // socket was opened in Python.
",
       "    var element = $("#" + id);
",
       "    var ws_proxy = comm_websocket_adapter(comm)
",
       "
",
       "    function ondownload(figure, format) {
",
       "        window.open(figure.imageObj.src);
",
       "    }
",
       "
",
       "    var fig = new mpl.figure(id, ws_proxy,
",
       "                           ondownload,
",
       "                           element.get(0));
",
       "
",
       "    // Call onopen now - mpl needs it, as it is assuming we've passed it a real
",
       "    // web socket which is closed, not our websocket->open comm proxy.
",
       "    ws_proxy.onopen();
",
       "
",
       "    fig.parent_element = element.get(0);
",
       "    fig.cell_info = mpl.find_output_cell("<div id='" + id + "'></div>");
",
       "    if (!fig.cell_info) {
",
       "        console.error("Failed to find cell for figure", id, fig);
",
       "        return;
",
       "    }
",
       "
",
       "    var output_index = fig.cell_info[2]
",
       "    var cell = fig.cell_info[0];
",
       "
",
       "};
",
       "
",
       "mpl.figure.prototype.handle_close = function(fig, msg) {
",
       "    var width = fig.canvas.width/mpl.ratio
",
       "    fig.root.unbind('remove')
",
       "
",
       "    // Update the output cell to use the data from the current canvas.
",
       "    fig.push_to_output();
",
       "    var dataURL = fig.canvas.toDataURL();
",
       "    // Re-enable the keyboard manager in IPython - without this line, in FF,
",
       "    // the notebook keyboard shortcuts fail.
",
       "    IPython.keyboard_manager.enable()
",
       "    $(fig.parent_element).html('<img src="' + dataURL + '" width="' + width + '">');
",
       "    fig.close_ws(fig, msg);
",
       "}
",
       "
",
       "mpl.figure.prototype.close_ws = function(fig, msg){
",
       "    fig.send_message('closing', msg);
",
       "    // fig.ws.close()
",
       "}
",
       "
",
       "mpl.figure.prototype.push_to_output = function(remove_interactive) {
",
       "    // Turn the data on the canvas into data in the output cell.
",
       "    var width = this.canvas.width/mpl.ratio
",
       "    var dataURL = this.canvas.toDataURL();
",
       "    this.cell_info[1]['text/html'] = '<img src="' + dataURL + '" width="' + width + '">';
",
       "}
",
       "
",
       "mpl.figure.prototype.updated_canvas_event = function() {
",
       "    // Tell IPython that the notebook contents must change.
",
       "    IPython.notebook.set_dirty(true);
",
       "    this.send_message("ack", {});
",
       "    var fig = this;
",
       "    // Wait a second, then push the new image to the DOM so
",
       "    // that it is saved nicely (might be nice to debounce this).
",
       "    setTimeout(function () { fig.push_to_output() }, 1000);
",
       "}
",
       "
",
       "mpl.figure.prototype._init_toolbar = function() {
",
       "    var fig = this;
",
       "
",
       "    var nav_element = $('<div/>')
",
       "    nav_element.attr('style', 'width: 100%');
",
       "    this.root.append(nav_element);
",
       "
",
       "    // Define a callback function for later on.
",
       "    function toolbar_event(event) {
",
       "        return fig.toolbar_button_onclick(event['data']);
",
       "    }
",
       "    function toolbar_mouse_event(event) {
",
       "        return fig.toolbar_button_onmouseover(event['data']);
",
       "    }
",
       "
",
       "    for(var toolbar_ind in mpl.toolbar_items){
",
       "        var name = mpl.toolbar_items[toolbar_ind][0];
",
       "        var tooltip = mpl.toolbar_items[toolbar_ind][1];
",
       "        var image = mpl.toolbar_items[toolbar_ind][2];
",
       "        var method_name = mpl.toolbar_items[toolbar_ind][3];
",
       "
",
       "        if (!name) { continue; };
",
       "
",
       "        var button = $('<button class="btn btn-default" href="#" title="' + name + '"><i class="fa ' + image + ' fa-lg"></i></button>');
",
       "        button.click(method_name, toolbar_event);
",
       "        button.mouseover(tooltip, toolbar_mouse_event);
",
       "        nav_element.append(button);
",
       "    }
",
       "
",
       "    // Add the status bar.
",
       "    var status_bar = $('<span class="mpl-message" style="text-align:right; float: right;"/>');
",
       "    nav_element.append(status_bar);
",
       "    this.message = status_bar[0];
",
       "
",
       "    // Add the close button to the window.
",
       "    var buttongrp = $('<div class="btn-group inline pull-right"></div>');
",
       "    var button = $('<button class="btn btn-mini btn-primary" href="#" title="Stop Interaction"><i class="fa fa-power-off icon-remove icon-large"></i></button>');
",
       "    button.click(function (evt) { fig.handle_close(fig, {}); } );
",
       "    button.mouseover('Stop Interaction', toolbar_mouse_event);
",
       "    buttongrp.append(button);
",
       "    var titlebar = this.root.find($('.ui-dialog-titlebar'));
",
       "    titlebar.prepend(buttongrp);
",
       "}
",
       "
",
       "mpl.figure.prototype._root_extra_style = function(el){
",
       "    var fig = this
",
       "    el.on("remove", function(){
",
       "	fig.close_ws(fig, {});
",
       "    });
",
       "}
",
       "
",
       "mpl.figure.prototype._canvas_extra_style = function(el){
",
       "    // this is important to make the div 'focusable
",
       "    el.attr('tabindex', 0)
",
       "    // reach out to IPython and tell the keyboard manager to turn it's self
",
       "    // off when our div gets focus
",
       "
",
       "    // location in version 3
",
       "    if (IPython.notebook.keyboard_manager) {
",
       "        IPython.notebook.keyboard_manager.register_events(el);
",
       "    }
",
       "    else {
",
       "        // location in version 2
",
       "        IPython.keyboard_manager.register_events(el);
",
       "    }
",
       "
",
       "}
",
       "
",
       "mpl.figure.prototype._key_event_extra = function(event, name) {
",
       "    var manager = IPython.notebook.keyboard_manager;
",
       "    if (!manager)
",
       "        manager = IPython.keyboard_manager;
",
       "
",
       "    // Check for shift+enter
",
       "    if (event.shiftKey && event.which == 13) {
",
       "        this.canvas_div.blur();
",
       "        // select the cell after this one
",
       "        var index = IPython.notebook.find_cell_index(this.cell_info[0]);
",
       "        IPython.notebook.select(index + 1);
",
       "    }
",
       "}
",
       "
",
       "mpl.figure.prototype.handle_save = function(fig, msg) {
",
       "    fig.ondownload(fig, null);
",
       "}
",
       "
",
       "
",
       "mpl.find_output_cell = function(html_output) {
",
       "    // Return the cell and output element which can be found *uniquely* in the notebook.
",
       "    // Note - this is a bit hacky, but it is done because the "notebook_saving.Notebook"
",
       "    // IPython event is triggered only after the cells have been serialised, which for
",
       "    // our purposes (turning an active figure into a static one), is too late.
",
       "    var cells = IPython.notebook.get_cells();
",
       "    var ncells = cells.length;
",
       "    for (var i=0; i<ncells; i++) {
",
       "        var cell = cells[i];
",
       "        if (cell.cell_type === 'code'){
",
       "            for (var j=0; j<cell.output_area.outputs.length; j++) {
",
       "                var data = cell.output_area.outputs[j];
",
       "                if (data.data) {
",
       "                    // IPython >= 3 moved mimebundle to data attribute of output
",
       "                    data = data.data;
",
       "                }
",
       "                if (data['text/html'] == html_output) {
",
       "                    return [cell, data, j];
",
       "                }
",
       "            }
",
       "        }
",
       "    }
",
       "}
",
       "
",
       "// Register the function which deals with the matplotlib target/channel.
",
       "// The kernel may be null if the page has been refreshed.
",
       "if (IPython.notebook.kernel != null) {
",
       "    IPython.notebook.kernel.comm_manager.register_target('matplotlib', mpl.mpl_figure_comm);
",
       "}
"
      ],
      "text/plain": [
       "<IPython.core.display.Javascript object>"
      ]
     },
     "metadata": {},
     "output_type": "display_data"
    },
    {
     "data": {
      "text/html": [
       "<img src="data:image/png;base64,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" width="640">"
      ],
      "text/plain": [
       "<IPython.core.display.HTML object>"
      ]
     },
     "metadata": {},
     "output_type": "display_data"
    }
   ],
   "source": [
    "plt.subplot(2,1,1)
",
    "for i in range(len(cut_ppg_times)):
",
    "    plt.plot(cut_ppg_times[i],cut_ppg_dat[i])
",
    "plt.gcf().autofmt_xdate()
",
    "
",
    "plt.subplot(2,1,2)
",
    "for i in range(len(cut_hrv_times)):
",
    "    plt.plot(cut_hrv_times[i],cut_hrv_dat[i])
",
    "plt.gcf().autofmt_xdate()"
   ]
  },
  {
   "cell_type": "code",
   "execution_count": 26,
   "metadata": {},
   "outputs": [
    {
     "data": {
      "text/plain": [
       "[<matplotlib.lines.Line2D at 0x7f7c6663c828>]"
      ]
     },
     "execution_count": 26,
     "metadata": {},
     "output_type": "execute_result"
    }
   ],
   "source": [
    "plot_days = []
",
    "for i in range(len(idx)-1):
",
    "    plot_days.append(hrv[idx[i]:idx[i+1],:])
",
    "    plt.plot(plot_days[i][:,0],plot_days[i][:,1])
",
    "plot_days.append(hrv[idx[-1]:,:])
",
    "plt.plot(plot_days[-1][:,0],plot_days[-1][:,1])"
   ]
  },
  {
   "cell_type": "code",
   "execution_count": 27,
   "metadata": {},
   "outputs": [
    {
     "data": {
      "text/plain": [
       "(datetime.datetime(2017, 10, 13, 1, 27, 27), 0.0)"
      ]
     },
     "execution_count": 27,
     "metadata": {},
     "output_type": "execute_result"
    }
   ],
   "source": [
    "convert_date(hrv[0,0])
",
    "#plt.subplot(1,1,1)
",
    "#plt.plot(ppg[:,0],ppg[:,-1])
",
    "#plt.subplot(1,1,1)
",
    "#plt.plot(hrv[:,0],hrv[:,-1],'*')
",
    "#plt.plot(plot_days[1][:,0],plot_days[1][:,1])
",
    "#plt.plot(plot_days[4][:,0],plot_days[4][:,1])
",
    "#plt.plot(ppg[idx,0],np.ones(len(idx)),'*')
",
    "#plt.xlim()"
   ]
  },
  {
   "cell_type": "code",
   "execution_count": 28,
   "metadata": {},
   "outputs": [
    {
     "data": {
      "text/plain": [
       "datetime.datetime(2017, 10, 13, 1, 27, 27)"
      ]
     },
     "execution_count": 28,
     "metadata": {},
     "output_type": "execute_result"
    }
   ],
   "source": [
    "dt,ms = convert_date(ppg[0,0])
",
    "dt"
   ]
  },
  {
   "cell_type": "code",
   "execution_count": 29,
   "metadata": {},
   "outputs": [
    {
     "data": {
      "text/plain": [
       "datetime.datetime(2017, 10, 13, 0, 0)"
      ]
     },
     "execution_count": 29,
     "metadata": {},
     "output_type": "execute_result"
    }
   ],
   "source": [
    "tmp = make_date(dt.day,dt.month,dt.year)
",
    "dt,ms = convert_date(tmp)
",
    "dt"
   ]
  }
 ],
 "metadata": {
  "kernelspec": {
   "display_name": "Python 3",
   "language": "python",
   "name": "python3"
  },
  "language_info": {
   "codemirror_mode": {
    "name": "ipython",
    "version": 3
   },
   "file_extension": ".py",
   "mimetype": "text/x-python",
   "name": "python",
   "nbconvert_exporter": "python",
   "pygments_lexer": "ipython3",
   "version": "3.5.2"
  }
 },
 "nbformat": 4,
 "nbformat_minor": 2
}